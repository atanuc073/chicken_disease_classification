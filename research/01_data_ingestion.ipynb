{
 "cells": [
  {
   "cell_type": "code",
   "execution_count": 6,
   "metadata": {},
   "outputs": [],
   "source": [
    "import os\n",
    "from cnnClassifier.utils.common import read_yaml,create_directories\n"
   ]
  },
  {
   "cell_type": "code",
   "execution_count": 12,
   "metadata": {},
   "outputs": [],
   "source": [
    "from dataclasses import dataclass\n",
    "from pathlib import Path\n",
    "\n",
    "@dataclass(frozen=True)\n",
    "class DataIngestionConfig:\n",
    "    root_dir:Path\n",
    "    kaggle_data : str\n",
    "    local_data_file : Path\n",
    "    unzip_dir : Path\n",
    "    kaggle_path : Path\n",
    "\n"
   ]
  },
  {
   "cell_type": "code",
   "execution_count": 13,
   "metadata": {},
   "outputs": [],
   "source": [
    "from cnnClassifier.constants import *\n",
    "from cnnClassifier.utils.common import read_yaml,create_directories"
   ]
  },
  {
   "cell_type": "code",
   "execution_count": 14,
   "metadata": {},
   "outputs": [],
   "source": [
    "CONFIG_FILE_PATH=Path(\"../config/config.yaml\")\n",
    "PARAMS_FILE_PATH=Path(\"../params.yaml\")"
   ]
  },
  {
   "cell_type": "code",
   "execution_count": 15,
   "metadata": {},
   "outputs": [],
   "source": [
    "class ConfigurationManager:\n",
    "    def __init__(\n",
    "        self,\n",
    "        config_filepath = CONFIG_FILE_PATH,\n",
    "        params_filepath = PARAMS_FILE_PATH):\n",
    "        self.config=read_yaml(config_filepath)\n",
    "        # self.params=read_yaml(params_filepath)\n",
    "        create_directories([self.config.artifacts_root])\n",
    "\n",
    "    def get_data_ingestion_config(self) -> DataIngestionConfig:\n",
    "        config = self.config.data_ingestion\n",
    "\n",
    "        create_directories([config.root_dir])\n",
    "        data_ingestion_config = DataIngestionConfig(\n",
    "            root_dir=config.root_dir,\n",
    "            kaggle_data=config.kaggle_data,\n",
    "            local_data_file=config.local_data_file,\n",
    "            unzip_dir=config.unzip_dir ,\n",
    "            kaggle_path=config.kaggle_path\n",
    "        )\n",
    "        return data_ingestion_config\n",
    "    "
   ]
  },
  {
   "cell_type": "code",
   "execution_count": 16,
   "metadata": {},
   "outputs": [
    {
     "name": "stdout",
     "output_type": "stream",
     "text": [
      "[2023-11-14 15:42:34,696 : INFO : common : yaml file: ..\\config\\config.yaml loaded successfully]\n",
      "[2023-11-14 15:42:34,697 : INFO : common : created directory at: artifacts]\n",
      "[2023-11-14 15:42:34,698 : INFO : common : created directory at: artifacts/data_ingestion]\n"
     ]
    }
   ],
   "source": [
    "config=ConfigurationManager()\n",
    "data_ingestion_config=config.get_data_ingestion_config()"
   ]
  },
  {
   "cell_type": "code",
   "execution_count": 112,
   "metadata": {},
   "outputs": [],
   "source": [
    "import os\n",
    "import urllib.request as request\n",
    "import zipfile\n",
    "from cnnClassifier import logger\n",
    "from cnnClassifier.utils.common import get_size\n"
   ]
  },
  {
   "cell_type": "code",
   "execution_count": 113,
   "metadata": {},
   "outputs": [],
   "source": [
    "import os\n",
    "import zipfile\n",
    "class DataIngestion:\n",
    "    def __init__(self,config:DataIngestionConfig):\n",
    "        self.config=config\n",
    "\n",
    "    def download_file(self):\n",
    "        os.environ['KAGGLE_CONFIG_DIR'] =self.config.kaggle_path\n",
    "       \n",
    "        dataset_slug = self.config.kaggle_data\n",
    "        destination_folder = self.config.local_data_file\n",
    "        data_name=destination_folder+dataset_slug.split('/')[-1]+\".zip\"\n",
    "        print(not os.path.exists(data_name))\n",
    "        if not os.path.exists(data_name):\n",
    "            # Create the command to download the dataset into the specified folder\n",
    "\n",
    "            command = f\"kaggle datasets download -d {dataset_slug} -p {destination_folder}\"\n",
    "            print(command)\n",
    "            # Run the download command\n",
    "            os.system(command)\n",
    "            logger.info(f\"{dataset_slug} downloaded ! \")\n",
    "        else:\n",
    "            logger.info(f\"The file is already exists of size : {get_size(data_name)}\")\n",
    "    def extract_zip_file(self):\n",
    "        unzip_path = self.config.unzip_dir\n",
    "        dataset_slug = self.config.kaggle_data\n",
    "        path_dir=unzip_path+dataset_slug.split('/')[-1]+\".zip\"\n",
    "        os.makedirs(unzip_path, exist_ok=True)\n",
    "        try:\n",
    "            with zipfile.ZipFile(path_dir, 'r') as zip_ref:\n",
    "                zip_ref.extractall(unzip_path)\n",
    "            logger.info(f\"file has been successfully exxtracted .\")\n",
    "        except:\n",
    "            logger.info(\"there is some error while extracting the files\")\n",
    "\n",
    "\n"
   ]
  },
  {
   "cell_type": "code",
   "execution_count": 99,
   "metadata": {},
   "outputs": [
    {
     "name": "stdout",
     "output_type": "stream",
     "text": [
      "[2023-10-09 02:10:32,340 : INFO : common : yaml file: ..\\config\\config.yaml loaded successfully]\n",
      "[2023-10-09 02:10:32,341 : INFO : common : created directory at: artifacts]\n"
     ]
    }
   ],
   "source": [
    "config = ConfigurationManager()"
   ]
  },
  {
   "cell_type": "code",
   "execution_count": 100,
   "metadata": {},
   "outputs": [
    {
     "name": "stdout",
     "output_type": "stream",
     "text": [
      "[2023-10-09 02:10:42,787 : INFO : common : created directory at: ../artifacts/data_ingestion]\n"
     ]
    }
   ],
   "source": [
    "data_ingestion_config = config.get_data_ingestion_config()"
   ]
  },
  {
   "cell_type": "code",
   "execution_count": 101,
   "metadata": {},
   "outputs": [],
   "source": [
    "data_ingestion = DataIngestion(config=data_ingestion_config)"
   ]
  },
  {
   "cell_type": "code",
   "execution_count": 102,
   "metadata": {},
   "outputs": [
    {
     "name": "stdout",
     "output_type": "stream",
     "text": [
      "C:\\Users\\atanu\\Desktop\\MY_WORK\\mlops\\chicken_disease_classification\\.kaggle'\n",
      "<class 'str'>\n",
      "True\n",
      "kaggle datasets download -d allandclive/chicken-disease-1 -p ../artifacts/data_ingestion/\n",
      "[2023-10-09 02:11:19,204 : INFO : 2893484855 : allandclive/chicken-disease-1 downloaded ! ]\n"
     ]
    }
   ],
   "source": [
    "data_ingestion.download_file()"
   ]
  },
  {
   "cell_type": "code",
   "execution_count": 105,
   "metadata": {},
   "outputs": [
    {
     "data": {
      "text/plain": [
       "\"C:\\\\Users\\\\atanu\\\\Desktop\\\\MY_WORK\\\\mlops\\\\chicken_disease_classification\\\\.kaggle'\""
      ]
     },
     "execution_count": 105,
     "metadata": {},
     "output_type": "execute_result"
    }
   ],
   "source": [
    "os.environ['KAGGLE_CONFIG_DIR']"
   ]
  },
  {
   "cell_type": "code",
   "execution_count": 114,
   "metadata": {},
   "outputs": [
    {
     "name": "stdout",
     "output_type": "stream",
     "text": [
      "[2023-10-09 02:13:51,236 : INFO : common : yaml file: ..\\config\\config.yaml loaded successfully]\n",
      "[2023-10-09 02:13:51,237 : INFO : common : created directory at: artifacts]\n",
      "[2023-10-09 02:13:51,238 : INFO : common : created directory at: ../artifacts/data_ingestion]\n",
      "True\n",
      "kaggle datasets download -d allandclive/chicken-disease-1 -p ../artifacts/data_ingestion/\n",
      "[2023-10-09 02:15:12,920 : INFO : 1845119559 : allandclive/chicken-disease-1 downloaded ! ]\n",
      "[2023-10-09 02:15:17,031 : INFO : 1845119559 : file has been successfully exxtracted .]\n"
     ]
    }
   ],
   "source": [
    "try:\n",
    "    config = ConfigurationManager()\n",
    "    data_ingestion_config = config.get_data_ingestion_config()\n",
    "    data_ingestion = DataIngestion(config=data_ingestion_config)\n",
    "    data_ingestion.download_file()\n",
    "    data_ingestion.extract_zip_file()\n",
    "except Exception as e:\n",
    "    raise e"
   ]
  },
  {
   "cell_type": "code",
   "execution_count": 96,
   "metadata": {},
   "outputs": [
    {
     "data": {
      "text/plain": [
       "1"
      ]
     },
     "execution_count": 96,
     "metadata": {},
     "output_type": "execute_result"
    }
   ],
   "source": [
    "os.system(\"kaggle datasets download -d allandclive/chicken-disease-1 -p ../artifacts/\")"
   ]
  },
  {
   "cell_type": "code",
   "execution_count": 88,
   "metadata": {},
   "outputs": [],
   "source": [
    "di=DataIngestion(data_ingestion_config)"
   ]
  },
  {
   "cell_type": "code",
   "execution_count": 89,
   "metadata": {},
   "outputs": [
    {
     "name": "stdout",
     "output_type": "stream",
     "text": [
      "../artifacts/data_ingestion/chicken-disease-1.zip\n"
     ]
    }
   ],
   "source": [
    "di.extract_zip_file()"
   ]
  },
  {
   "cell_type": "code",
   "execution_count": 54,
   "metadata": {},
   "outputs": [
    {
     "ename": "ImportError",
     "evalue": "cannot import name 'CONFIG_FILE_PATH' from 'cnnClassifier.constants' (c:\\users\\atanu\\desktop\\my_work\\mlops\\chicken_disease_classification\\src\\cnnClassifier\\constants\\__init__.py)",
     "output_type": "error",
     "traceback": [
      "\u001b[1;31m---------------------------------------------------------------------------\u001b[0m",
      "\u001b[1;31mImportError\u001b[0m                               Traceback (most recent call last)",
      "\u001b[1;32mc:\\Users\\atanu\\Desktop\\MY_WORK\\mlops\\chicken_disease_classification\\research\\01_data_ingestion.ipynb Cell 3\u001b[0m line \u001b[0;36m1\n\u001b[1;32m----> <a href='vscode-notebook-cell:/c%3A/Users/atanu/Desktop/MY_WORK/mlops/chicken_disease_classification/research/01_data_ingestion.ipynb#W4sZmlsZQ%3D%3D?line=0'>1</a>\u001b[0m \u001b[39mfrom\u001b[39;00m \u001b[39mcnnClassifier\u001b[39;00m\u001b[39m.\u001b[39;00m\u001b[39mconstants\u001b[39;00m \u001b[39mimport\u001b[39;00m CONFIG_FILE_PATH,PARAMS_FILE_PATH\n",
      "\u001b[1;31mImportError\u001b[0m: cannot import name 'CONFIG_FILE_PATH' from 'cnnClassifier.constants' (c:\\users\\atanu\\desktop\\my_work\\mlops\\chicken_disease_classification\\src\\cnnClassifier\\constants\\__init__.py)"
     ]
    }
   ],
   "source": [
    "from cnnClassifier.constants import CONFIG_FILE_PATH,PARAMS_FILE_PATH"
   ]
  },
  {
   "cell_type": "code",
   "execution_count": 55,
   "metadata": {},
   "outputs": [],
   "source": [
    "from pathlib import Path\n",
    "\n",
    "CONFIG_FILE_PATH = Path(\"../config/config.yaml\")\n",
    "PARAMS_FILE_PATH = Path(\"../params.yaml\")\n",
    "class ConfigurationManager:\n",
    "    def __init__(self,config_filepath=CONFIG_FILE_PATH,\n",
    "                 params_filepath=PARAMS_FILE_PATH):\n",
    "        self.config=read_yaml(config_filepath)\n",
    "        # self.params=read_yaml(params_filepath)\n",
    "\n",
    "        create_directories([self.config.artifacts_root])\n",
    "\n",
    "    def get_data_ingestion_config(self) -> DataIngestionConfig:\n",
    "        config =self.config.data_ingestion\n",
    "        create_directories([config.root_dir])\n",
    "\n",
    "        data_ingestion_config=DataIngestionConfig(\n",
    "            root_dir=config.root_dir,\n",
    "            source_URL=config.source_URL,\n",
    "            local_data_file=config.local_data_file,\n",
    "            unzip_dir=config.unzip_dir\n",
    "        )\n",
    "\n",
    "        return data_ingestion_config\n",
    "    \n",
    "\n",
    "\n"
   ]
  },
  {
   "cell_type": "code",
   "execution_count": 56,
   "metadata": {},
   "outputs": [],
   "source": [
    "import os\n",
    "import urllib.request as request\n",
    "import zipfile\n",
    "from cnnClassifier import logger\n",
    "from cnnClassifier.utils.common import get_size\n"
   ]
  },
  {
   "cell_type": "code",
   "execution_count": 57,
   "metadata": {},
   "outputs": [],
   "source": [
    "import gdown"
   ]
  },
  {
   "cell_type": "code",
   "execution_count": 61,
   "metadata": {},
   "outputs": [],
   "source": [
    "import gdown\n",
    "class DataIngestion:\n",
    "    def __init__(self,config:DataIngestionConfig):\n",
    "        self.config=config\n",
    "\n",
    "    def download_file(self):\n",
    "        if not os.path.exists(self.config.local_data_file):\n",
    "            # filename,headers=request.urlretrieve(\n",
    "            #     url=self.config.source_URL,\n",
    "            #     filename=self.config.local_data_file\n",
    "            # )\n",
    "            gdown.download(url=self.config.source_URL,output=self.config.local_data_file)\n",
    "            logger.info(f\" download ! with following info : \\n \")\n",
    "        else:\n",
    "            logger.info(f\"File already exists of size: {get_size(Path(self.config.local_data_file))}\")\n",
    "\n",
    "\n",
    "    def extract_zip_file(self):\n",
    "        \"\"\"\n",
    "        zip_file_path: str\n",
    "        Extracts the zip file into the data directory\n",
    "        Function returns None\n",
    "        \"\"\"\n",
    "        unzip_path=self.config.unzip_dir\n",
    "        os.makedirs(unzip_path,exist_ok=True)\n",
    "        with zipfile.ZipFile(self.config.local_data_file,'r') as zip_ref:\n",
    "            zip_ref.extractall(unzip_path)\n",
    "\n",
    "        "
   ]
  },
  {
   "cell_type": "code",
   "execution_count": 62,
   "metadata": {},
   "outputs": [
    {
     "name": "stdout",
     "output_type": "stream",
     "text": [
      "[2023-10-07 20:17:47,857 : INFO : 2436179286 : yaml file: ..\\config\\config.yaml loaded successfully]\n",
      "[2023-10-07 20:17:47,859 : INFO : common : created directory at: artifacts]\n",
      "[2023-10-07 20:17:47,860 : INFO : common : created directory at: artifacts/data_ingestion]\n"
     ]
    },
    {
     "name": "stderr",
     "output_type": "stream",
     "text": [
      "c:\\Users\\atanu\\anaconda3\\envs\\chicken\\lib\\site-packages\\gdown\\parse_url.py:44: UserWarning: You specified a Google Drive link that is not the correct link to download a file. You might want to try `--fuzzy` option or the following url: https://drive.google.com/uc?id=1GmVNmiS_oBTBU5LJjrXcIpnlHaseyUtB\n",
      "  warnings.warn(\n",
      "Downloading...\n",
      "From: https://drive.google.com/file/d/1GmVNmiS_oBTBU5LJjrXcIpnlHaseyUtB/view?usp=sharing\n",
      "To: c:\\Users\\atanu\\Desktop\\MY_WORK\\mlops\\chicken_disease_classification\\research\\artifacts\\data_ingestion\\data.zip\n",
      "100%|██████████| 3.30k/3.30k [00:00<?, ?B/s]"
     ]
    },
    {
     "name": "stdout",
     "output_type": "stream",
     "text": [
      "[2023-10-07 20:17:49,417 : INFO : 3674291866 :  download ! with following info : \n",
      " ]\n"
     ]
    },
    {
     "name": "stderr",
     "output_type": "stream",
     "text": [
      "\n"
     ]
    },
    {
     "ename": "BadZipFile",
     "evalue": "File is not a zip file",
     "output_type": "error",
     "traceback": [
      "\u001b[1;31m---------------------------------------------------------------------------\u001b[0m",
      "\u001b[1;31mBadZipFile\u001b[0m                                Traceback (most recent call last)",
      "\u001b[1;32mc:\\Users\\atanu\\Desktop\\MY_WORK\\mlops\\chicken_disease_classification\\research\\01_data_ingestion.ipynb Cell 8\u001b[0m line \u001b[0;36m9\n\u001b[0;32m      <a href='vscode-notebook-cell:/c%3A/Users/atanu/Desktop/MY_WORK/mlops/chicken_disease_classification/research/01_data_ingestion.ipynb#X10sZmlsZQ%3D%3D?line=5'>6</a>\u001b[0m     data_ingestion\u001b[39m.\u001b[39mextract_zip_file()\n\u001b[0;32m      <a href='vscode-notebook-cell:/c%3A/Users/atanu/Desktop/MY_WORK/mlops/chicken_disease_classification/research/01_data_ingestion.ipynb#X10sZmlsZQ%3D%3D?line=7'>8</a>\u001b[0m \u001b[39mexcept\u001b[39;00m \u001b[39mException\u001b[39;00m \u001b[39mas\u001b[39;00m e:\n\u001b[1;32m----> <a href='vscode-notebook-cell:/c%3A/Users/atanu/Desktop/MY_WORK/mlops/chicken_disease_classification/research/01_data_ingestion.ipynb#X10sZmlsZQ%3D%3D?line=8'>9</a>\u001b[0m     \u001b[39mraise\u001b[39;00m e\n",
      "\u001b[1;32mc:\\Users\\atanu\\Desktop\\MY_WORK\\mlops\\chicken_disease_classification\\research\\01_data_ingestion.ipynb Cell 8\u001b[0m line \u001b[0;36m6\n\u001b[0;32m      <a href='vscode-notebook-cell:/c%3A/Users/atanu/Desktop/MY_WORK/mlops/chicken_disease_classification/research/01_data_ingestion.ipynb#X10sZmlsZQ%3D%3D?line=3'>4</a>\u001b[0m     data_ingestion\u001b[39m=\u001b[39mDataIngestion(config\u001b[39m=\u001b[39mdata_ingestion_config)\n\u001b[0;32m      <a href='vscode-notebook-cell:/c%3A/Users/atanu/Desktop/MY_WORK/mlops/chicken_disease_classification/research/01_data_ingestion.ipynb#X10sZmlsZQ%3D%3D?line=4'>5</a>\u001b[0m     data_ingestion\u001b[39m.\u001b[39mdownload_file()\n\u001b[1;32m----> <a href='vscode-notebook-cell:/c%3A/Users/atanu/Desktop/MY_WORK/mlops/chicken_disease_classification/research/01_data_ingestion.ipynb#X10sZmlsZQ%3D%3D?line=5'>6</a>\u001b[0m     data_ingestion\u001b[39m.\u001b[39;49mextract_zip_file()\n\u001b[0;32m      <a href='vscode-notebook-cell:/c%3A/Users/atanu/Desktop/MY_WORK/mlops/chicken_disease_classification/research/01_data_ingestion.ipynb#X10sZmlsZQ%3D%3D?line=7'>8</a>\u001b[0m \u001b[39mexcept\u001b[39;00m \u001b[39mException\u001b[39;00m \u001b[39mas\u001b[39;00m e:\n\u001b[0;32m      <a href='vscode-notebook-cell:/c%3A/Users/atanu/Desktop/MY_WORK/mlops/chicken_disease_classification/research/01_data_ingestion.ipynb#X10sZmlsZQ%3D%3D?line=8'>9</a>\u001b[0m     \u001b[39mraise\u001b[39;00m e\n",
      "\u001b[1;32mc:\\Users\\atanu\\Desktop\\MY_WORK\\mlops\\chicken_disease_classification\\research\\01_data_ingestion.ipynb Cell 8\u001b[0m line \u001b[0;36m2\n\u001b[0;32m     <a href='vscode-notebook-cell:/c%3A/Users/atanu/Desktop/MY_WORK/mlops/chicken_disease_classification/research/01_data_ingestion.ipynb#X10sZmlsZQ%3D%3D?line=23'>24</a>\u001b[0m unzip_path\u001b[39m=\u001b[39m\u001b[39mself\u001b[39m\u001b[39m.\u001b[39mconfig\u001b[39m.\u001b[39munzip_dir\n\u001b[0;32m     <a href='vscode-notebook-cell:/c%3A/Users/atanu/Desktop/MY_WORK/mlops/chicken_disease_classification/research/01_data_ingestion.ipynb#X10sZmlsZQ%3D%3D?line=24'>25</a>\u001b[0m os\u001b[39m.\u001b[39mmakedirs(unzip_path,exist_ok\u001b[39m=\u001b[39m\u001b[39mTrue\u001b[39;00m)\n\u001b[1;32m---> <a href='vscode-notebook-cell:/c%3A/Users/atanu/Desktop/MY_WORK/mlops/chicken_disease_classification/research/01_data_ingestion.ipynb#X10sZmlsZQ%3D%3D?line=25'>26</a>\u001b[0m \u001b[39mwith\u001b[39;00m zipfile\u001b[39m.\u001b[39;49mZipFile(\u001b[39mself\u001b[39;49m\u001b[39m.\u001b[39;49mconfig\u001b[39m.\u001b[39;49mlocal_data_file,\u001b[39m'\u001b[39;49m\u001b[39mr\u001b[39;49m\u001b[39m'\u001b[39;49m) \u001b[39mas\u001b[39;00m zip_ref:\n\u001b[0;32m     <a href='vscode-notebook-cell:/c%3A/Users/atanu/Desktop/MY_WORK/mlops/chicken_disease_classification/research/01_data_ingestion.ipynb#X10sZmlsZQ%3D%3D?line=26'>27</a>\u001b[0m     zip_ref\u001b[39m.\u001b[39mextractall(unzip_path)\n",
      "File \u001b[1;32mc:\\Users\\atanu\\anaconda3\\envs\\chicken\\lib\\zipfile.py:1266\u001b[0m, in \u001b[0;36mZipFile.__init__\u001b[1;34m(self, file, mode, compression, allowZip64, compresslevel, strict_timestamps)\u001b[0m\n\u001b[0;32m   1264\u001b[0m \u001b[39mtry\u001b[39;00m:\n\u001b[0;32m   1265\u001b[0m     \u001b[39mif\u001b[39;00m mode \u001b[39m==\u001b[39m \u001b[39m'\u001b[39m\u001b[39mr\u001b[39m\u001b[39m'\u001b[39m:\n\u001b[1;32m-> 1266\u001b[0m         \u001b[39mself\u001b[39;49m\u001b[39m.\u001b[39;49m_RealGetContents()\n\u001b[0;32m   1267\u001b[0m     \u001b[39melif\u001b[39;00m mode \u001b[39min\u001b[39;00m (\u001b[39m'\u001b[39m\u001b[39mw\u001b[39m\u001b[39m'\u001b[39m, \u001b[39m'\u001b[39m\u001b[39mx\u001b[39m\u001b[39m'\u001b[39m):\n\u001b[0;32m   1268\u001b[0m         \u001b[39m# set the modified flag so central directory gets written\u001b[39;00m\n\u001b[0;32m   1269\u001b[0m         \u001b[39m# even if no files are added to the archive\u001b[39;00m\n\u001b[0;32m   1270\u001b[0m         \u001b[39mself\u001b[39m\u001b[39m.\u001b[39m_didModify \u001b[39m=\u001b[39m \u001b[39mTrue\u001b[39;00m\n",
      "File \u001b[1;32mc:\\Users\\atanu\\anaconda3\\envs\\chicken\\lib\\zipfile.py:1333\u001b[0m, in \u001b[0;36mZipFile._RealGetContents\u001b[1;34m(self)\u001b[0m\n\u001b[0;32m   1331\u001b[0m     \u001b[39mraise\u001b[39;00m BadZipFile(\u001b[39m\"\u001b[39m\u001b[39mFile is not a zip file\u001b[39m\u001b[39m\"\u001b[39m)\n\u001b[0;32m   1332\u001b[0m \u001b[39mif\u001b[39;00m \u001b[39mnot\u001b[39;00m endrec:\n\u001b[1;32m-> 1333\u001b[0m     \u001b[39mraise\u001b[39;00m BadZipFile(\u001b[39m\"\u001b[39m\u001b[39mFile is not a zip file\u001b[39m\u001b[39m\"\u001b[39m)\n\u001b[0;32m   1334\u001b[0m \u001b[39mif\u001b[39;00m \u001b[39mself\u001b[39m\u001b[39m.\u001b[39mdebug \u001b[39m>\u001b[39m \u001b[39m1\u001b[39m:\n\u001b[0;32m   1335\u001b[0m     \u001b[39mprint\u001b[39m(endrec)\n",
      "\u001b[1;31mBadZipFile\u001b[0m: File is not a zip file"
     ]
    }
   ],
   "source": [
    "try:\n",
    "    config=ConfigurationManager()\n",
    "    data_ingestion_config=config.get_data_ingestion_config()\n",
    "    data_ingestion=DataIngestion(config=data_ingestion_config)\n",
    "    data_ingestion.download_file()\n",
    "    data_ingestion.extract_zip_file()\n",
    "\n",
    "except Exception as e:\n",
    "    raise e\n",
    "    "
   ]
  },
  {
   "cell_type": "code",
   "execution_count": 23,
   "metadata": {},
   "outputs": [
    {
     "data": {
      "text/plain": [
       "'c:\\\\Users\\\\atanu\\\\Desktop\\\\MY_WORK\\\\mlops\\\\chicken_disease_classification\\\\research'"
      ]
     },
     "execution_count": 23,
     "metadata": {},
     "output_type": "execute_result"
    }
   ],
   "source": [
    "%pwd"
   ]
  },
  {
   "cell_type": "code",
   "execution_count": 36,
   "metadata": {},
   "outputs": [
    {
     "name": "stdout",
     "output_type": "stream",
     "text": [
      "[2023-10-07 19:30:14,815 : INFO : 2436179286 : yaml file: ..\\config\\config.yaml loaded successfully]\n",
      "[2023-10-07 19:30:14,817 : INFO : 2436179286 : yaml file: ..\\params.yaml loaded successfully]\n"
     ]
    },
    {
     "ename": "ValueError",
     "evalue": "yaml file is empty",
     "output_type": "error",
     "traceback": [
      "\u001b[1;31m---------------------------------------------------------------------------\u001b[0m",
      "\u001b[1;31mBoxValueError\u001b[0m                             Traceback (most recent call last)",
      "\u001b[1;32mc:\\Users\\atanu\\Desktop\\MY_WORK\\mlops\\chicken_disease_classification\\research\\01_data_ingestion.ipynb Cell 9\u001b[0m line \u001b[0;36m3\n\u001b[0;32m     <a href='vscode-notebook-cell:/c%3A/Users/atanu/Desktop/MY_WORK/mlops/chicken_disease_classification/research/01_data_ingestion.ipynb#X12sZmlsZQ%3D%3D?line=28'>29</a>\u001b[0m         logger\u001b[39m.\u001b[39minfo(\u001b[39mf\u001b[39m\u001b[39m\"\u001b[39m\u001b[39myaml file: \u001b[39m\u001b[39m{\u001b[39;00mpath_to_yaml\u001b[39m}\u001b[39;00m\u001b[39m loaded successfully\u001b[39m\u001b[39m\"\u001b[39m)\n\u001b[1;32m---> <a href='vscode-notebook-cell:/c%3A/Users/atanu/Desktop/MY_WORK/mlops/chicken_disease_classification/research/01_data_ingestion.ipynb#X12sZmlsZQ%3D%3D?line=29'>30</a>\u001b[0m         \u001b[39mreturn\u001b[39;00m ConfigBox(content)\n\u001b[0;32m     <a href='vscode-notebook-cell:/c%3A/Users/atanu/Desktop/MY_WORK/mlops/chicken_disease_classification/research/01_data_ingestion.ipynb#X12sZmlsZQ%3D%3D?line=30'>31</a>\u001b[0m \u001b[39mexcept\u001b[39;00m BoxValueError:\n",
      "File \u001b[1;32mc:\\Users\\atanu\\anaconda3\\envs\\chicken\\lib\\site-packages\\box\\box.py:259\u001b[0m, in \u001b[0;36mbox.box.Box.__init__\u001b[1;34m()\u001b[0m\n",
      "\u001b[1;31mBoxValueError\u001b[0m: First argument must be mapping or iterable",
      "\nDuring handling of the above exception, another exception occurred:\n",
      "\u001b[1;31mValueError\u001b[0m                                Traceback (most recent call last)",
      "\u001b[1;32mc:\\Users\\atanu\\Desktop\\MY_WORK\\mlops\\chicken_disease_classification\\research\\01_data_ingestion.ipynb Cell 9\u001b[0m line \u001b[0;36m1\n\u001b[1;32m----> <a href='vscode-notebook-cell:/c%3A/Users/atanu/Desktop/MY_WORK/mlops/chicken_disease_classification/research/01_data_ingestion.ipynb#X12sZmlsZQ%3D%3D?line=0'>1</a>\u001b[0m config\u001b[39m=\u001b[39mConfigurationManager()\n",
      "\u001b[1;32mc:\\Users\\atanu\\Desktop\\MY_WORK\\mlops\\chicken_disease_classification\\research\\01_data_ingestion.ipynb Cell 9\u001b[0m line \u001b[0;36m9\n\u001b[0;32m      <a href='vscode-notebook-cell:/c%3A/Users/atanu/Desktop/MY_WORK/mlops/chicken_disease_classification/research/01_data_ingestion.ipynb#X12sZmlsZQ%3D%3D?line=5'>6</a>\u001b[0m \u001b[39mdef\u001b[39;00m \u001b[39m__init__\u001b[39m(\u001b[39mself\u001b[39m,config_filepath\u001b[39m=\u001b[39mCONFIG_FILE_PATH,\n\u001b[0;32m      <a href='vscode-notebook-cell:/c%3A/Users/atanu/Desktop/MY_WORK/mlops/chicken_disease_classification/research/01_data_ingestion.ipynb#X12sZmlsZQ%3D%3D?line=6'>7</a>\u001b[0m              params_filepath\u001b[39m=\u001b[39mPARAMS_FILE_PATH):\n\u001b[0;32m      <a href='vscode-notebook-cell:/c%3A/Users/atanu/Desktop/MY_WORK/mlops/chicken_disease_classification/research/01_data_ingestion.ipynb#X12sZmlsZQ%3D%3D?line=7'>8</a>\u001b[0m     \u001b[39mself\u001b[39m\u001b[39m.\u001b[39mconfig\u001b[39m=\u001b[39mread_yaml(config_filepath)\n\u001b[1;32m----> <a href='vscode-notebook-cell:/c%3A/Users/atanu/Desktop/MY_WORK/mlops/chicken_disease_classification/research/01_data_ingestion.ipynb#X12sZmlsZQ%3D%3D?line=8'>9</a>\u001b[0m     \u001b[39mself\u001b[39m\u001b[39m.\u001b[39mparams\u001b[39m=\u001b[39mread_yaml(params_filepath)\n\u001b[0;32m     <a href='vscode-notebook-cell:/c%3A/Users/atanu/Desktop/MY_WORK/mlops/chicken_disease_classification/research/01_data_ingestion.ipynb#X12sZmlsZQ%3D%3D?line=10'>11</a>\u001b[0m     create_directories([\u001b[39mself\u001b[39m\u001b[39m.\u001b[39mconfig\u001b[39m.\u001b[39martifacts_root])\n",
      "\u001b[1;32mc:\\Users\\atanu\\Desktop\\MY_WORK\\mlops\\chicken_disease_classification\\research\\01_data_ingestion.ipynb Cell 9\u001b[0m line \u001b[0;36m3\n\u001b[0;32m     <a href='vscode-notebook-cell:/c%3A/Users/atanu/Desktop/MY_WORK/mlops/chicken_disease_classification/research/01_data_ingestion.ipynb#X12sZmlsZQ%3D%3D?line=29'>30</a>\u001b[0m         \u001b[39mreturn\u001b[39;00m ConfigBox(content)\n\u001b[0;32m     <a href='vscode-notebook-cell:/c%3A/Users/atanu/Desktop/MY_WORK/mlops/chicken_disease_classification/research/01_data_ingestion.ipynb#X12sZmlsZQ%3D%3D?line=30'>31</a>\u001b[0m \u001b[39mexcept\u001b[39;00m BoxValueError:\n\u001b[1;32m---> <a href='vscode-notebook-cell:/c%3A/Users/atanu/Desktop/MY_WORK/mlops/chicken_disease_classification/research/01_data_ingestion.ipynb#X12sZmlsZQ%3D%3D?line=31'>32</a>\u001b[0m     \u001b[39mraise\u001b[39;00m \u001b[39mValueError\u001b[39;00m(\u001b[39m\"\u001b[39m\u001b[39myaml file is empty\u001b[39m\u001b[39m\"\u001b[39m)\n\u001b[0;32m     <a href='vscode-notebook-cell:/c%3A/Users/atanu/Desktop/MY_WORK/mlops/chicken_disease_classification/research/01_data_ingestion.ipynb#X12sZmlsZQ%3D%3D?line=32'>33</a>\u001b[0m \u001b[39mexcept\u001b[39;00m \u001b[39mException\u001b[39;00m \u001b[39mas\u001b[39;00m e:\n\u001b[0;32m     <a href='vscode-notebook-cell:/c%3A/Users/atanu/Desktop/MY_WORK/mlops/chicken_disease_classification/research/01_data_ingestion.ipynb#X12sZmlsZQ%3D%3D?line=33'>34</a>\u001b[0m     \u001b[39mraise\u001b[39;00m e\n",
      "\u001b[1;31mValueError\u001b[0m: yaml file is empty"
     ]
    }
   ],
   "source": [
    "config=ConfigurationManager()"
   ]
  },
  {
   "cell_type": "code",
   "execution_count": 33,
   "metadata": {},
   "outputs": [],
   "source": [
    "import os\n",
    "from box.exceptions import BoxValueError\n",
    "import yaml\n",
    "from cnnClassifier import logger\n",
    "import json\n",
    "import joblib\n",
    "from ensure import ensure_annotations\n",
    "from box import ConfigBox\n",
    "from pathlib import Path\n",
    "from typing import Any\n",
    "import base64\n",
    "\n",
    "def read_yaml(path_to_yaml: Path) -> ConfigBox:\n",
    "    \"\"\"reads yaml file and returns\n",
    "\n",
    "    Args:\n",
    "        path_to_yaml (str): path like input\n",
    "\n",
    "    Raises:\n",
    "        ValueError: if yaml file is empty\n",
    "        e: empty file\n",
    "\n",
    "    Returns:\n",
    "        ConfigBox: ConfigBox type\n",
    "    \"\"\"\n",
    "    try:\n",
    "        with open(path_to_yaml) as yaml_file:\n",
    "            content = yaml.safe_load(yaml_file)\n",
    "            logger.info(f\"yaml file: {path_to_yaml} loaded successfully\")\n",
    "            return ConfigBox(content)\n",
    "    except BoxValueError:\n",
    "        raise ValueError(\"yaml file is empty\")\n",
    "    except Exception as e:\n",
    "        raise e"
   ]
  },
  {
   "cell_type": "code",
   "execution_count": 35,
   "metadata": {},
   "outputs": [
    {
     "name": "stdout",
     "output_type": "stream",
     "text": [
      "[2023-10-07 19:29:50,078 : INFO : 2436179286 : yaml file: ..\\config\\config.yaml loaded successfully]\n"
     ]
    },
    {
     "data": {
      "text/plain": [
       "ConfigBox({'artifact_root': 'artifacts', 'data_ingestion': {'root_dir': 'artifacts/data_ingestion', 'source_URL': 'https://drive.google.com/file/d/1GmVNmiS_oBTBU5LJjrXcIpnlHaseyUtB/view?usp=drive_link', 'local_data_file': 'artifacts/data_ingestion/data.zip', 'unzip_dir': 'artifacts/data_ingestion'}})"
      ]
     },
     "execution_count": 35,
     "metadata": {},
     "output_type": "execute_result"
    }
   ],
   "source": [
    "read_yaml(CONFIG_FILE_PATH)"
   ]
  },
  {
   "cell_type": "code",
   "execution_count": null,
   "metadata": {},
   "outputs": [],
   "source": []
  }
 ],
 "metadata": {
  "kernelspec": {
   "display_name": "chicken",
   "language": "python",
   "name": "python3"
  },
  "language_info": {
   "codemirror_mode": {
    "name": "ipython",
    "version": 3
   },
   "file_extension": ".py",
   "mimetype": "text/x-python",
   "name": "python",
   "nbconvert_exporter": "python",
   "pygments_lexer": "ipython3",
   "version": "3.9.18"
  }
 },
 "nbformat": 4,
 "nbformat_minor": 2
}
