{
 "cells": [
  {
   "cell_type": "code",
   "execution_count": 1,
   "metadata": {},
   "outputs": [],
   "source": [
    "d={\"key\" : \"value\", \"key1\" : \"value1\"}"
   ]
  },
  {
   "cell_type": "code",
   "execution_count": 4,
   "metadata": {},
   "outputs": [],
   "source": [
    "file=\"https://drive.google.com/file/d/1GmVNmiS_oBTBU5LJjrXcIpnlHaseyUtB\""
   ]
  },
  {
   "cell_type": "code",
   "execution_count": 5,
   "metadata": {},
   "outputs": [
    {
     "name": "stderr",
     "output_type": "stream",
     "text": [
      "c:\\Users\\atanu\\anaconda3\\envs\\chicken\\lib\\site-packages\\gdown\\parse_url.py:44: UserWarning: You specified a Google Drive link that is not the correct link to download a file. You might want to try `--fuzzy` option or the following url: https://drive.google.com/uc?id=None\n",
      "  warnings.warn(\n",
      "Downloading...\n",
      "From: https://drive.google.com/file/d/1GmVNmiS_oBTBU5LJjrXcIpnlHaseyUtB\n",
      "To: c:\\Users\\atanu\\Desktop\\MY_WORK\\mlops\\chicken_disease_classification\\research\\1GmVNmiS_oBTBU5LJjrXcIpnlHaseyUtB\n",
      "83.4kB [00:00, 83.5MB/s]\n"
     ]
    },
    {
     "data": {
      "text/plain": [
       "'1GmVNmiS_oBTBU5LJjrXcIpnlHaseyUtB'"
      ]
     },
     "execution_count": 5,
     "metadata": {},
     "output_type": "execute_result"
    }
   ],
   "source": [
    "import gdown\n",
    "gdown.download(file)"
   ]
  },
  {
   "cell_type": "code",
   "execution_count": 6,
   "metadata": {},
   "outputs": [
    {
     "name": "stdout",
     "output_type": "stream",
     "text": [
      "Collecting kaggle\n",
      "  Downloading kaggle-1.5.16.tar.gz (83 kB)\n",
      "     ---------------------------------------- 0.0/83.6 kB ? eta -:--:--\n",
      "     ---- ----------------------------------- 10.2/83.6 kB ? eta -:--:--\n",
      "     ---- ----------------------------------- 10.2/83.6 kB ? eta -:--:--\n",
      "     ------------------ ------------------- 41.0/83.6 kB 279.3 kB/s eta 0:00:01\n",
      "     -------------------------------------- 83.6/83.6 kB 467.2 kB/s eta 0:00:00\n",
      "  Preparing metadata (setup.py): started\n",
      "  Preparing metadata (setup.py): finished with status 'done'\n",
      "Requirement already satisfied: six>=1.10 in c:\\users\\atanu\\anaconda3\\envs\\chicken\\lib\\site-packages (from kaggle) (1.16.0)\n",
      "Requirement already satisfied: certifi in c:\\users\\atanu\\anaconda3\\envs\\chicken\\lib\\site-packages (from kaggle) (2023.7.22)\n",
      "Requirement already satisfied: python-dateutil in c:\\users\\atanu\\anaconda3\\envs\\chicken\\lib\\site-packages (from kaggle) (2.8.2)\n",
      "Requirement already satisfied: requests in c:\\users\\atanu\\anaconda3\\envs\\chicken\\lib\\site-packages (from kaggle) (2.31.0)\n",
      "Requirement already satisfied: tqdm in c:\\users\\atanu\\anaconda3\\envs\\chicken\\lib\\site-packages (from kaggle) (4.66.1)\n",
      "Collecting python-slugify (from kaggle)\n",
      "  Using cached python_slugify-8.0.1-py2.py3-none-any.whl (9.7 kB)\n",
      "Requirement already satisfied: urllib3 in c:\\users\\atanu\\anaconda3\\envs\\chicken\\lib\\site-packages (from kaggle) (2.0.6)\n",
      "Requirement already satisfied: bleach in c:\\users\\atanu\\anaconda3\\envs\\chicken\\lib\\site-packages (from kaggle) (6.0.0)\n",
      "Requirement already satisfied: webencodings in c:\\users\\atanu\\anaconda3\\envs\\chicken\\lib\\site-packages (from bleach->kaggle) (0.5.1)\n",
      "Collecting text-unidecode>=1.3 (from python-slugify->kaggle)\n",
      "  Using cached text_unidecode-1.3-py2.py3-none-any.whl (78 kB)\n",
      "Requirement already satisfied: charset-normalizer<4,>=2 in c:\\users\\atanu\\anaconda3\\envs\\chicken\\lib\\site-packages (from requests->kaggle) (3.3.0)\n",
      "Requirement already satisfied: idna<4,>=2.5 in c:\\users\\atanu\\anaconda3\\envs\\chicken\\lib\\site-packages (from requests->kaggle) (3.4)\n",
      "Requirement already satisfied: colorama in c:\\users\\atanu\\anaconda3\\envs\\chicken\\lib\\site-packages (from tqdm->kaggle) (0.4.6)\n",
      "Building wheels for collected packages: kaggle\n",
      "  Building wheel for kaggle (setup.py): started\n",
      "  Building wheel for kaggle (setup.py): finished with status 'done'\n",
      "  Created wheel for kaggle: filename=kaggle-1.5.16-py3-none-any.whl size=110693 sha256=372e223501ea4cacdcf1d07f904f15e01d8273af1040ebfa9100064dae94a38f\n",
      "  Stored in directory: c:\\users\\atanu\\appdata\\local\\pip\\cache\\wheels\\d2\\ed\\a5\\da3a0cfb13373d1ace41cafa4f2467d858c55c52473ba72799\n",
      "Successfully built kaggle\n",
      "Installing collected packages: text-unidecode, python-slugify, kaggle\n",
      "Successfully installed kaggle-1.5.16 python-slugify-8.0.1 text-unidecode-1.3\n"
     ]
    }
   ],
   "source": [
    "! pip install kaggle"
   ]
  },
  {
   "cell_type": "code",
   "execution_count": 7,
   "metadata": {},
   "outputs": [
    {
     "name": "stdout",
     "output_type": "stream",
     "text": [
      "Collecting pydrive\n",
      "  Downloading PyDrive-1.3.1.tar.gz (987 kB)\n",
      "     ---------------------------------------- 0.0/987.4 kB ? eta -:--:--\n",
      "     ---------------------------------------- 10.2/987.4 kB ? eta -:--:--\n",
      "     - ----------------------------------- 30.7/987.4 kB 325.1 kB/s eta 0:00:03\n",
      "     -- ---------------------------------- 61.4/987.4 kB 465.5 kB/s eta 0:00:02\n",
      "     ----- ------------------------------ 153.6/987.4 kB 913.1 kB/s eta 0:00:01\n",
      "     ------------- ------------------------ 358.4/987.4 kB 1.9 MB/s eta 0:00:01\n",
      "     -------------------------------- ----- 839.7/987.4 kB 3.8 MB/s eta 0:00:01\n",
      "     -------------------------------------  983.0/987.4 kB 3.7 MB/s eta 0:00:01\n",
      "     -------------------------------------- 987.4/987.4 kB 3.7 MB/s eta 0:00:00\n",
      "  Preparing metadata (setup.py): started\n",
      "  Preparing metadata (setup.py): finished with status 'done'\n",
      "Collecting google-api-python-client>=1.2 (from pydrive)\n",
      "  Obtaining dependency information for google-api-python-client>=1.2 from https://files.pythonhosted.org/packages/f8/e9/11fb73fe17f63e2e8aa7c1f4afb790ab737c0881dce4757bdead998ef48d/google_api_python_client-2.102.0-py2.py3-none-any.whl.metadata\n",
      "  Downloading google_api_python_client-2.102.0-py2.py3-none-any.whl.metadata (6.6 kB)\n",
      "Collecting oauth2client>=4.0.0 (from pydrive)\n",
      "  Downloading oauth2client-4.1.3-py2.py3-none-any.whl (98 kB)\n",
      "     ---------------------------------------- 0.0/98.2 kB ? eta -:--:--\n",
      "     ---------------------------------------- 98.2/98.2 kB ? eta 0:00:00\n",
      "Requirement already satisfied: PyYAML>=3.0 in c:\\users\\atanu\\anaconda3\\envs\\chicken\\lib\\site-packages (from pydrive) (6.0.1)\n",
      "Collecting httplib2<1.dev0,>=0.15.0 (from google-api-python-client>=1.2->pydrive)\n",
      "  Downloading httplib2-0.22.0-py3-none-any.whl (96 kB)\n",
      "     ---------------------------------------- 0.0/96.9 kB ? eta -:--:--\n",
      "     ---------------------------------------- 96.9/96.9 kB 5.8 MB/s eta 0:00:00\n",
      "Requirement already satisfied: google-auth<3.0.0.dev0,>=1.19.0 in c:\\users\\atanu\\anaconda3\\envs\\chicken\\lib\\site-packages (from google-api-python-client>=1.2->pydrive) (2.23.2)\n",
      "Collecting google-auth-httplib2>=0.1.0 (from google-api-python-client>=1.2->pydrive)\n",
      "  Obtaining dependency information for google-auth-httplib2>=0.1.0 from https://files.pythonhosted.org/packages/d3/3d/e4991229886c0d522d9552151a43ff7adcc61e026e60ce8bd508387f84cf/google_auth_httplib2-0.1.1-py2.py3-none-any.whl.metadata\n",
      "  Downloading google_auth_httplib2-0.1.1-py2.py3-none-any.whl.metadata (2.1 kB)\n",
      "Collecting google-api-core!=2.0.*,!=2.1.*,!=2.2.*,!=2.3.0,<3.0.0.dev0,>=1.31.5 (from google-api-python-client>=1.2->pydrive)\n",
      "  Obtaining dependency information for google-api-core!=2.0.*,!=2.1.*,!=2.2.*,!=2.3.0,<3.0.0.dev0,>=1.31.5 from https://files.pythonhosted.org/packages/4d/ce/4fd62ea66b3508debc795e475336ce915929765870f0ad52328426ba016e/google_api_core-2.12.0-py3-none-any.whl.metadata\n",
      "  Downloading google_api_core-2.12.0-py3-none-any.whl.metadata (2.7 kB)\n",
      "Collecting uritemplate<5,>=3.0.1 (from google-api-python-client>=1.2->pydrive)\n",
      "  Downloading uritemplate-4.1.1-py2.py3-none-any.whl (10 kB)\n",
      "Requirement already satisfied: pyasn1>=0.1.7 in c:\\users\\atanu\\anaconda3\\envs\\chicken\\lib\\site-packages (from oauth2client>=4.0.0->pydrive) (0.5.0)\n",
      "Requirement already satisfied: pyasn1-modules>=0.0.5 in c:\\users\\atanu\\anaconda3\\envs\\chicken\\lib\\site-packages (from oauth2client>=4.0.0->pydrive) (0.3.0)\n",
      "Requirement already satisfied: rsa>=3.1.4 in c:\\users\\atanu\\anaconda3\\envs\\chicken\\lib\\site-packages (from oauth2client>=4.0.0->pydrive) (4.9)\n",
      "Requirement already satisfied: six>=1.6.1 in c:\\users\\atanu\\anaconda3\\envs\\chicken\\lib\\site-packages (from oauth2client>=4.0.0->pydrive) (1.16.0)\n",
      "Collecting googleapis-common-protos<2.0.dev0,>=1.56.2 (from google-api-core!=2.0.*,!=2.1.*,!=2.2.*,!=2.3.0,<3.0.0.dev0,>=1.31.5->google-api-python-client>=1.2->pydrive)\n",
      "  Obtaining dependency information for googleapis-common-protos<2.0.dev0,>=1.56.2 from https://files.pythonhosted.org/packages/a7/bc/416a1ffeba4dcd072bc10523dac9ed97f2e7fc4b760580e2bdbdc1e2afdd/googleapis_common_protos-1.60.0-py2.py3-none-any.whl.metadata\n",
      "  Downloading googleapis_common_protos-1.60.0-py2.py3-none-any.whl.metadata (1.5 kB)\n",
      "Requirement already satisfied: protobuf!=3.20.0,!=3.20.1,!=4.21.0,!=4.21.1,!=4.21.2,!=4.21.3,!=4.21.4,!=4.21.5,<5.0.0.dev0,>=3.19.5 in c:\\users\\atanu\\anaconda3\\envs\\chicken\\lib\\site-packages (from google-api-core!=2.0.*,!=2.1.*,!=2.2.*,!=2.3.0,<3.0.0.dev0,>=1.31.5->google-api-python-client>=1.2->pydrive) (3.19.6)\n",
      "Requirement already satisfied: requests<3.0.0.dev0,>=2.18.0 in c:\\users\\atanu\\anaconda3\\envs\\chicken\\lib\\site-packages (from google-api-core!=2.0.*,!=2.1.*,!=2.2.*,!=2.3.0,<3.0.0.dev0,>=1.31.5->google-api-python-client>=1.2->pydrive) (2.31.0)\n",
      "Requirement already satisfied: cachetools<6.0,>=2.0.0 in c:\\users\\atanu\\anaconda3\\envs\\chicken\\lib\\site-packages (from google-auth<3.0.0.dev0,>=1.19.0->google-api-python-client>=1.2->pydrive) (5.3.1)\n",
      "Requirement already satisfied: pyparsing!=3.0.0,!=3.0.1,!=3.0.2,!=3.0.3,<4,>=2.4.2 in c:\\users\\atanu\\anaconda3\\envs\\chicken\\lib\\site-packages (from httplib2<1.dev0,>=0.15.0->google-api-python-client>=1.2->pydrive) (3.1.1)\n",
      "Requirement already satisfied: charset-normalizer<4,>=2 in c:\\users\\atanu\\anaconda3\\envs\\chicken\\lib\\site-packages (from requests<3.0.0.dev0,>=2.18.0->google-api-core!=2.0.*,!=2.1.*,!=2.2.*,!=2.3.0,<3.0.0.dev0,>=1.31.5->google-api-python-client>=1.2->pydrive) (3.3.0)\n",
      "Requirement already satisfied: idna<4,>=2.5 in c:\\users\\atanu\\anaconda3\\envs\\chicken\\lib\\site-packages (from requests<3.0.0.dev0,>=2.18.0->google-api-core!=2.0.*,!=2.1.*,!=2.2.*,!=2.3.0,<3.0.0.dev0,>=1.31.5->google-api-python-client>=1.2->pydrive) (3.4)\n",
      "Requirement already satisfied: urllib3<3,>=1.21.1 in c:\\users\\atanu\\anaconda3\\envs\\chicken\\lib\\site-packages (from requests<3.0.0.dev0,>=2.18.0->google-api-core!=2.0.*,!=2.1.*,!=2.2.*,!=2.3.0,<3.0.0.dev0,>=1.31.5->google-api-python-client>=1.2->pydrive) (2.0.6)\n",
      "Requirement already satisfied: certifi>=2017.4.17 in c:\\users\\atanu\\anaconda3\\envs\\chicken\\lib\\site-packages (from requests<3.0.0.dev0,>=2.18.0->google-api-core!=2.0.*,!=2.1.*,!=2.2.*,!=2.3.0,<3.0.0.dev0,>=1.31.5->google-api-python-client>=1.2->pydrive) (2023.7.22)\n",
      "Downloading google_api_python_client-2.102.0-py2.py3-none-any.whl (12.4 MB)\n",
      "   ---------------------------------------- 0.0/12.4 MB ? eta -:--:--\n",
      "   - -------------------------------------- 0.5/12.4 MB 16.8 MB/s eta 0:00:01\n",
      "   -- ------------------------------------- 0.7/12.4 MB 10.7 MB/s eta 0:00:02\n",
      "   -- ------------------------------------- 0.7/12.4 MB 9.5 MB/s eta 0:00:02\n",
      "   -- ------------------------------------- 0.7/12.4 MB 9.5 MB/s eta 0:00:02\n",
      "   -- ------------------------------------- 0.7/12.4 MB 9.5 MB/s eta 0:00:02\n",
      "   -- ------------------------------------- 0.9/12.4 MB 4.1 MB/s eta 0:00:03\n",
      "   --- ------------------------------------ 1.1/12.4 MB 4.3 MB/s eta 0:00:03\n",
      "   --- ------------------------------------ 1.2/12.4 MB 4.3 MB/s eta 0:00:03\n",
      "   ---- ----------------------------------- 1.4/12.4 MB 4.2 MB/s eta 0:00:03\n",
      "   ---- ----------------------------------- 1.5/12.4 MB 4.3 MB/s eta 0:00:03\n",
      "   ----- ---------------------------------- 1.7/12.4 MB 4.1 MB/s eta 0:00:03\n",
      "   ----- ---------------------------------- 1.8/12.4 MB 4.1 MB/s eta 0:00:03\n",
      "   ------ --------------------------------- 2.0/12.4 MB 4.1 MB/s eta 0:00:03\n",
      "   ------ --------------------------------- 2.0/12.4 MB 4.1 MB/s eta 0:00:03\n",
      "   ------ --------------------------------- 2.0/12.4 MB 4.1 MB/s eta 0:00:03\n",
      "   ------ --------------------------------- 2.0/12.4 MB 4.1 MB/s eta 0:00:03\n",
      "   ------ --------------------------------- 2.0/12.4 MB 3.3 MB/s eta 0:00:04\n",
      "   -------- ------------------------------- 2.5/12.4 MB 3.8 MB/s eta 0:00:03\n",
      "   -------- ------------------------------- 2.7/12.4 MB 3.7 MB/s eta 0:00:03\n",
      "   --------- ------------------------------ 2.8/12.4 MB 3.7 MB/s eta 0:00:03\n",
      "   --------- ------------------------------ 3.0/12.4 MB 3.8 MB/s eta 0:00:03\n",
      "   ---------- ----------------------------- 3.1/12.4 MB 3.7 MB/s eta 0:00:03\n",
      "   ---------- ----------------------------- 3.2/12.4 MB 3.8 MB/s eta 0:00:03\n",
      "   ---------- ----------------------------- 3.2/12.4 MB 3.8 MB/s eta 0:00:03\n",
      "   ---------- ----------------------------- 3.2/12.4 MB 3.8 MB/s eta 0:00:03\n",
      "   ---------- ----------------------------- 3.2/12.4 MB 3.8 MB/s eta 0:00:03\n",
      "   ---------- ----------------------------- 3.2/12.4 MB 3.8 MB/s eta 0:00:03\n",
      "   ----------- ---------------------------- 3.7/12.4 MB 3.5 MB/s eta 0:00:03\n",
      "   ------------ --------------------------- 3.8/12.4 MB 3.5 MB/s eta 0:00:03\n",
      "   ------------ --------------------------- 4.0/12.4 MB 3.6 MB/s eta 0:00:03\n",
      "   ------------- -------------------------- 4.2/12.4 MB 3.6 MB/s eta 0:00:03\n",
      "   ------------- -------------------------- 4.3/12.4 MB 3.6 MB/s eta 0:00:03\n",
      "   -------------- ------------------------- 4.5/12.4 MB 3.6 MB/s eta 0:00:03\n",
      "   -------------- ------------------------- 4.6/12.4 MB 3.6 MB/s eta 0:00:03\n",
      "   --------------- ------------------------ 4.8/12.4 MB 3.6 MB/s eta 0:00:03\n",
      "   --------------- ------------------------ 4.9/12.4 MB 3.7 MB/s eta 0:00:03\n",
      "   ---------------- ----------------------- 5.1/12.4 MB 3.6 MB/s eta 0:00:03\n",
      "   ---------------- ----------------------- 5.2/12.4 MB 3.7 MB/s eta 0:00:02\n",
      "   ----------------- ---------------------- 5.4/12.4 MB 3.7 MB/s eta 0:00:02\n",
      "   ----------------- ---------------------- 5.5/12.4 MB 3.7 MB/s eta 0:00:02\n",
      "   ------------------ --------------------- 5.7/12.4 MB 3.7 MB/s eta 0:00:02\n",
      "   ------------------ --------------------- 5.7/12.4 MB 3.7 MB/s eta 0:00:02\n",
      "   ------------------ --------------------- 5.7/12.4 MB 3.7 MB/s eta 0:00:02\n",
      "   ------------------ --------------------- 5.7/12.4 MB 3.7 MB/s eta 0:00:02\n",
      "   ------------------- -------------------- 5.9/12.4 MB 3.6 MB/s eta 0:00:02\n",
      "   -------------------- ------------------- 6.5/12.4 MB 3.7 MB/s eta 0:00:02\n",
      "   --------------------- ------------------ 6.6/12.4 MB 3.7 MB/s eta 0:00:02\n",
      "   --------------------- ------------------ 6.8/12.4 MB 3.7 MB/s eta 0:00:02\n",
      "   ---------------------- ----------------- 6.9/12.4 MB 3.7 MB/s eta 0:00:02\n",
      "   ---------------------- ----------------- 7.0/12.4 MB 3.7 MB/s eta 0:00:02\n",
      "   ----------------------- ---------------- 7.2/12.4 MB 3.7 MB/s eta 0:00:02\n",
      "   ----------------------- ---------------- 7.4/12.4 MB 3.7 MB/s eta 0:00:02\n",
      "   ------------------------ --------------- 7.5/12.4 MB 3.7 MB/s eta 0:00:02\n",
      "   ------------------------ --------------- 7.6/12.4 MB 3.7 MB/s eta 0:00:02\n",
      "   ------------------------- -------------- 7.8/12.4 MB 3.7 MB/s eta 0:00:02\n",
      "   ------------------------- -------------- 7.9/12.4 MB 3.7 MB/s eta 0:00:02\n",
      "   ------------------------- -------------- 8.1/12.4 MB 3.7 MB/s eta 0:00:02\n",
      "   -------------------------- ------------- 8.2/12.4 MB 3.7 MB/s eta 0:00:02\n",
      "   -------------------------- ------------- 8.4/12.4 MB 3.7 MB/s eta 0:00:02\n",
      "   --------------------------- ------------ 8.5/12.4 MB 3.7 MB/s eta 0:00:02\n",
      "   ---------------------------- ----------- 8.7/12.4 MB 3.7 MB/s eta 0:00:01\n",
      "   ---------------------------- ----------- 8.9/12.4 MB 3.8 MB/s eta 0:00:01\n",
      "   ----------------------------- ---------- 9.1/12.4 MB 3.8 MB/s eta 0:00:01\n",
      "   ----------------------------- ---------- 9.2/12.4 MB 3.7 MB/s eta 0:00:01\n",
      "   ------------------------------ --------- 9.3/12.4 MB 3.8 MB/s eta 0:00:01\n",
      "   ------------------------------ --------- 9.5/12.4 MB 3.8 MB/s eta 0:00:01\n",
      "   ------------------------------- -------- 9.6/12.4 MB 3.8 MB/s eta 0:00:01\n",
      "   ------------------------------- -------- 9.8/12.4 MB 3.8 MB/s eta 0:00:01\n",
      "   ------------------------------- -------- 9.9/12.4 MB 3.8 MB/s eta 0:00:01\n",
      "   -------------------------------- ------- 10.1/12.4 MB 3.8 MB/s eta 0:00:01\n",
      "   -------------------------------- ------- 10.3/12.4 MB 3.8 MB/s eta 0:00:01\n",
      "   --------------------------------- ------ 10.4/12.4 MB 3.7 MB/s eta 0:00:01\n",
      "   --------------------------------- ------ 10.5/12.4 MB 3.7 MB/s eta 0:00:01\n",
      "   ---------------------------------- ----- 10.7/12.4 MB 3.6 MB/s eta 0:00:01\n",
      "   ---------------------------------- ----- 10.9/12.4 MB 3.6 MB/s eta 0:00:01\n",
      "   ----------------------------------- ---- 11.0/12.4 MB 3.8 MB/s eta 0:00:01\n",
      "   ----------------------------------- ---- 11.1/12.4 MB 3.7 MB/s eta 0:00:01\n",
      "   ------------------------------------ --- 11.3/12.4 MB 3.7 MB/s eta 0:00:01\n",
      "   ------------------------------------ --- 11.4/12.4 MB 3.7 MB/s eta 0:00:01\n",
      "   ------------------------------------- -- 11.6/12.4 MB 3.7 MB/s eta 0:00:01\n",
      "   ------------------------------------- -- 11.7/12.4 MB 3.7 MB/s eta 0:00:01\n",
      "   -------------------------------------- - 11.9/12.4 MB 3.7 MB/s eta 0:00:01\n",
      "   -------------------------------------- - 12.0/12.4 MB 3.7 MB/s eta 0:00:01\n",
      "   ---------------------------------------  12.2/12.4 MB 3.7 MB/s eta 0:00:01\n",
      "   ---------------------------------------  12.3/12.4 MB 3.9 MB/s eta 0:00:01\n",
      "   ---------------------------------------  12.4/12.4 MB 3.9 MB/s eta 0:00:01\n",
      "   ---------------------------------------- 12.4/12.4 MB 3.8 MB/s eta 0:00:00\n",
      "Downloading google_api_core-2.12.0-py3-none-any.whl (121 kB)\n",
      "   ---------------------------------------- 0.0/121.4 kB ? eta -:--:--\n",
      "   ---------------------------------------- 121.4/121.4 kB 7.0 MB/s eta 0:00:00\n",
      "Downloading google_auth_httplib2-0.1.1-py2.py3-none-any.whl (9.3 kB)\n",
      "Downloading googleapis_common_protos-1.60.0-py2.py3-none-any.whl (227 kB)\n",
      "   ---------------------------------------- 0.0/227.6 kB ? eta -:--:--\n",
      "   --------------------------------------- 227.6/227.6 kB 13.6 MB/s eta 0:00:00\n",
      "Building wheels for collected packages: pydrive\n",
      "  Building wheel for pydrive (setup.py): started\n",
      "  Building wheel for pydrive (setup.py): finished with status 'done'\n",
      "  Created wheel for pydrive: filename=PyDrive-1.3.1-py3-none-any.whl size=27465 sha256=ff78e887c51c89ffeaa726c7a68f46090d160f474435c1127a9c305cb651aae9\n",
      "  Stored in directory: c:\\users\\atanu\\appdata\\local\\pip\\cache\\wheels\\6e\\98\\e3\\c91ae530a0508f87f1f24fe2b9df9d8e3952de1224d495e9e2\n",
      "Successfully built pydrive\n",
      "Installing collected packages: uritemplate, httplib2, googleapis-common-protos, oauth2client, google-auth-httplib2, google-api-core, google-api-python-client, pydrive\n",
      "Successfully installed google-api-core-2.12.0 google-api-python-client-2.102.0 google-auth-httplib2-0.1.1 googleapis-common-protos-1.60.0 httplib2-0.22.0 oauth2client-4.1.3 pydrive-1.3.1 uritemplate-4.1.1\n"
     ]
    }
   ],
   "source": [
    "! pip install pydrive\n"
   ]
  },
  {
   "cell_type": "code",
   "execution_count": 16,
   "metadata": {},
   "outputs": [],
   "source": [
    "import os\n",
    "os.environ['KAGGLE_CONFIG_DIR'] = 'C:\\\\Users\\\\atanu\\\\Desktop\\\\MY_WORK\\\\mlops\\\\chicken_disease_classification\\\\.kaggle'\n"
   ]
  },
  {
   "cell_type": "code",
   "execution_count": 20,
   "metadata": {},
   "outputs": [
    {
     "data": {
      "text/plain": [
       "0"
      ]
     },
     "execution_count": 20,
     "metadata": {},
     "output_type": "execute_result"
    }
   ],
   "source": [
    "import os\n",
    "\n",
    "# Replace 'username/dataset-name' with the actual dataset slug\n",
    "dataset_slug = \"allandclive/chicken-disease-1\"\n",
    "\n",
    "# Specify the destination folder\n",
    "destination_folder = '../artifacts/'\n",
    "\n",
    "# Create the command to download the dataset into the specified folder\n",
    "# command = f\"kaggle datasets download -d {dataset_slug} -p {destination_folder}\"\n",
    "command=\"kaggle datasets download -d allandclive/chicken-disease-1 -p ../artifacts/data_ingestion/\"\n",
    "# Run the download command\n",
    "os.system(command)\n"
   ]
  },
  {
   "cell_type": "code",
   "execution_count": null,
   "metadata": {},
   "outputs": [],
   "source": [
    "\n",
    "\n",
    "\n",
    "kaggle datasets download -d allandclive/chicken-disease-1 -p ../artifacts/data_ingestion/"
   ]
  },
  {
   "cell_type": "code",
   "execution_count": 14,
   "metadata": {},
   "outputs": [],
   "source": [
    "import zipfile\n",
    "\n",
    "with zipfile.ZipFile(destination_folder+\"chicken-disease-1.zip\", \"r\") as zip_ref:\n",
    "    zip_ref.extractall(destination_folder)\n"
   ]
  },
  {
   "cell_type": "code",
   "execution_count": null,
   "metadata": {},
   "outputs": [],
   "source": []
  }
 ],
 "metadata": {
  "kernelspec": {
   "display_name": "chicken",
   "language": "python",
   "name": "python3"
  },
  "language_info": {
   "codemirror_mode": {
    "name": "ipython",
    "version": 3
   },
   "file_extension": ".py",
   "mimetype": "text/x-python",
   "name": "python",
   "nbconvert_exporter": "python",
   "pygments_lexer": "ipython3",
   "version": "3.9.18"
  }
 },
 "nbformat": 4,
 "nbformat_minor": 2
}
